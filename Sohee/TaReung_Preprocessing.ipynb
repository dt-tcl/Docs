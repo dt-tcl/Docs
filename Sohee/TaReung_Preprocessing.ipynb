{
 "cells": [
  {
   "cell_type": "markdown",
   "metadata": {},
   "source": [
    "# Library Import"
   ]
  },
  {
   "cell_type": "code",
   "execution_count": 1,
   "metadata": {},
   "outputs": [
    {
     "name": "stderr",
     "output_type": "stream",
     "text": [
      "/Users/soheehwang/anaconda3/lib/python3.6/importlib/_bootstrap.py:219: RuntimeWarning: compiletime version 3.5 of module 'tensorflow.python.framework.fast_tensor_util' does not match runtime version 3.6\n",
      "  return f(*args, **kwds)\n"
     ]
    },
    {
     "name": "stdout",
     "output_type": "stream",
     "text": [
      "1.10.1\n",
      "/Users/soheehwang/git/TCL_bicycle\n"
     ]
    }
   ],
   "source": [
    "import pandas as pd\n",
    "import numpy as np\n",
    "import glob\n",
    "import tensorflow as tf\n",
    "import os\n",
    "import sys\n",
    "print(tf.__version__)\n",
    "os.chdir(\n",
    " '/Users/soheehwang/git/TCL_bicycle'\n",
    ")\n",
    "print(os.getcwd())\n",
    "\n",
    "import unipy as up\n",
    "from random import shuffle\n",
    "\n",
    "import matplotlib.pyplot as plt\n",
    "from sklearn.manifold import TSNE\n",
    "from sklearn.decomposition import PCA\n",
    "import seaborn as sns\n",
    "\n",
    "import urllib\n",
    "from sklearn.cluster import KMeans\n",
    "from sklearn.cluster import DBSCAN\n",
    "from sklearn.mixture import GaussianMixture"
   ]
  },
  {
   "cell_type": "markdown",
   "metadata": {},
   "source": [
    "# 1. Data Loader Function"
   ]
  },
  {
   "cell_type": "code",
   "execution_count": 2,
   "metadata": {},
   "outputs": [],
   "source": [
    "def csv_read(input):\n",
    "    result = pd.read_csv(input, encoding='cp949' ,header=None, skiprows=[0])\n",
    "    return result\n",
    "\n",
    "def data_loader(\n",
    "    data_path,\n",
    "    excel_format=False,\n",
    "    ):\n",
    "    \n",
    "    if excel_format == False:\n",
    "        read_file = csv_read\n",
    "    else:\n",
    "        read_file = pd.read_excel\n",
    "\n",
    "    data_list = glob.glob(data_path)\n",
    "\n",
    "    print('Found %s Files.' % len(data_list))\n",
    "\n",
    "    full_data = pd.concat(\n",
    "        map(\n",
    "            read_file,\n",
    "            data_list,\n",
    "        )\n",
    "    )\n",
    "    full_data.columns = full_data.columns.str.strip(\"'\")\n",
    "    full_data = full_data.apply(\n",
    "        lambda x: x.str.strip(\"'\") if x.dtype == np.dtype('object') else x\n",
    "    )\n",
    "\n",
    "    print(\n",
    "        '[shape]: ', full_data.shape,\n",
    "        '\\n',full_data.head(),\n",
    "    )\n",
    "\n",
    "    return full_data"
   ]
  },
  {
   "cell_type": "code",
   "execution_count": null,
   "metadata": {},
   "outputs": [],
   "source": [
    "new_member = data_loader('./data/data_new_member/daily/*.csv')\n",
    "foreign_member = data_loader('./data/data_foreign_member/daily/*.csv')\n",
    "\n",
    "rental_info = data_loader('./data/all_.csv')"
   ]
  }
 ],
 "metadata": {
  "kernelspec": {
   "display_name": "Python 3",
   "language": "python",
   "name": "python3"
  },
  "language_info": {
   "codemirror_mode": {
    "name": "ipython",
    "version": 3
   },
   "file_extension": ".py",
   "mimetype": "text/x-python",
   "name": "python",
   "nbconvert_exporter": "python",
   "pygments_lexer": "ipython3",
   "version": "3.6.8"
  }
 },
 "nbformat": 4,
 "nbformat_minor": 2
}
